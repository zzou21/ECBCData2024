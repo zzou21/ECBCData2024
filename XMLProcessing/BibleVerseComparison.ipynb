{
 "cells": [
  {
   "cell_type": "markdown",
   "metadata": {},
   "source": [
    "This file vectorizes the Geneva Bible verses and compares the the verses against the italicizes or marked Biblical citations from the XML files. This is part of the Biblical citation filtering process.\n",
    "\n",
    "Author: Jerry Zou"
   ]
  },
  {
   "cell_type": "code",
   "execution_count": 4,
   "metadata": {},
   "outputs": [],
   "source": [
    "import torch\n",
    "from transformers import AutoTokenizer, AutoModel\n",
    "from torch.nn.functional import cosine_similarity\n",
    "import pandas as pd\n",
    "import heapq"
   ]
  },
  {
   "cell_type": "code",
   "execution_count": 9,
   "metadata": {},
   "outputs": [
    {
     "name": "stdout",
     "output_type": "stream",
     "text": [
      "['In the beginning God created the heauen and the earth.', 'And the earth was without forme and voide, and darkenesse was vpon the deepe, and the Spirit of God moued vpon ye waters.', 'Then God saide, Let there be light: And there was light.', 'And God sawe the light that it was good, and God separated the light from the darkenes.', 'And God called the light, Day, and the darkenes, he called Night. So the euening and the morning were the first day.', 'Againe God saide, Let there be a firmament in the middes of the waters: and let it separate the waters from the waters.', 'Then God made the firmament, and separated the waters, which were vnder the firmament, from the waters which were aboue the firmament; it was so.', 'And God called the firmament Heauen. So the Euening and the morning were the seconde day.', 'God saide againe, Let the waters vnder the heauen be gathered into one place, and let the dry land appeare; it was so.', 'And God called the dry land, Earth, and he called the gathering together of the waters, Seas: and God sawe that it was good.']\n"
     ]
    }
   ],
   "source": [
    "# Process Geneva Bible CSV\n",
    "csvFilePath = \"/Users/Jerry/Desktop/genevaBible.csv\"\n",
    "dataFrame = pd.read_csv(csvFilePath)\n",
    "# dataFrame.head(10)\n",
    "verses = dataFrame[\"Text\"].tolist()\n",
    "print(verses[:10])"
   ]
  },
  {
   "cell_type": "code",
   "execution_count": 2,
   "metadata": {},
   "outputs": [
    {
     "name": "stderr",
     "output_type": "stream",
     "text": [
      "/Library/Frameworks/Python.framework/Versions/3.11/lib/python3.11/site-packages/huggingface_hub/file_download.py:1132: FutureWarning: `resume_download` is deprecated and will be removed in version 1.0.0. Downloads always resume when possible. If you want to force a new download, use `force_download=True`.\n",
      "  warnings.warn(\n",
      "/Library/Frameworks/Python.framework/Versions/3.11/lib/python3.11/site-packages/torch/_utils.py:776: UserWarning: TypedStorage is deprecated. It will be removed in the future and UntypedStorage will be the only storage class. This should only matter to you if you are using storages directly.  To access UntypedStorage directly, use tensor.untyped_storage() instead of tensor.storage()\n",
      "  return self.fget.__get__(instance, owner)()\n"
     ]
    },
    {
     "name": "stdout",
     "output_type": "stream",
     "text": [
      "Shape of the sentence embeddings: torch.Size([1, 768])\n"
     ]
    }
   ],
   "source": [
    "tokenizer = AutoTokenizer.from_pretrained(\"emanjavacas/MacBERTh\")\n",
    "model = AutoModel.from_pretrained(\"emanjavacas/MacBERTh\")\n",
    "\n",
    "sentences = [\"Example sentence for dimension checking.\"]\n",
    "\n",
    "inputs = tokenizer(sentences, return_tensors=\"pt\", padding=\"max_length\", truncation=True, max_length=512)\n",
    "\n",
    "with torch.no_grad():\n",
    "    outputs = model(**inputs)\n",
    "\n",
    "sentence_embeddings = outputs.last_hidden_state[:, 0, :]\n",
    "\n",
    "print(f\"Shape of the sentence embeddings: {sentence_embeddings.shape}\")"
   ]
  }
 ],
 "metadata": {
  "kernelspec": {
   "display_name": "Python 3",
   "language": "python",
   "name": "python3"
  },
  "language_info": {
   "codemirror_mode": {
    "name": "ipython",
    "version": 3
   },
   "file_extension": ".py",
   "mimetype": "text/x-python",
   "name": "python",
   "nbconvert_exporter": "python",
   "pygments_lexer": "ipython3",
   "version": "3.11.5"
  }
 },
 "nbformat": 4,
 "nbformat_minor": 2
}
