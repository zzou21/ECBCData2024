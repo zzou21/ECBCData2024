{
 "cells": [
  {
   "cell_type": "code",
   "execution_count": 19,
   "metadata": {},
   "outputs": [],
   "source": [
    "from transformers import AutoTokenizer, AutoModel\n",
    "import torch, string\n",
    "import numpy as np\n",
    "from sklearn.metrics.pairwise import cosine_similarity\n",
    "from docx import Document\n",
    "from tqdm import tqdm\n",
    "import matplotlib.pyplot as plt\n",
    "import networkx as nx\n",
    "import seaborn as sns\n",
    "import pandas as pd\n",
    "import json\n",
    "import nltk"
   ]
  },
  {
   "cell_type": "code",
   "execution_count": 6,
   "metadata": {},
   "outputs": [
    {
     "name": "stderr",
     "output_type": "stream",
     "text": [
      "/Library/Frameworks/Python.framework/Versions/3.11/lib/python3.11/site-packages/huggingface_hub/file_download.py:1132: FutureWarning: `resume_download` is deprecated and will be removed in version 1.0.0. Downloads always resume when possible. If you want to force a new download, use `force_download=True`.\n",
      "  warnings.warn(\n"
     ]
    }
   ],
   "source": [
    "modelName = \"emanjavacas/MacBERTh\"\n",
    "tokenizer = AutoTokenizer.from_pretrained(modelName)\n",
    "model = AutoModel.from_pretrained(modelName)\n",
    "\n"
   ]
  },
  {
   "cell_type": "code",
   "execution_count": null,
   "metadata": {},
   "outputs": [],
   "source": [
    "# Preprocess by word\n",
    "def preprocessTextByWord(sentence):\n",
    "    translator = str.maketrans('', '', string.punctuation)\n",
    "    sentence = sentence.translate(translator)\n",
    "    lowercase_sentence = sentence.lower()\n",
    "    \n",
    "    return tokenizer.tokenize(lowercase_sentence)\n",
    "# FOR DEBUG: print(preprocessText(\"/Users/Jerry/Desktop/test.docx\")[:40])"
   ]
  },
  {
   "cell_type": "code",
   "execution_count": 13,
   "metadata": {},
   "outputs": [],
   "source": [
    "# Preprocess by sentence\n",
    "def preprocessTextBySentence(sentence):\n",
    "    # Remove punctuation and convert to lowercase\n",
    "    translator = str.maketrans('', '', string.punctuation)\n",
    "    sentence = sentence.translate(translator)\n",
    "    lowercase_sentence = sentence.lower()\n",
    "    return lowercase_sentence\n",
    "\n",
    "def sentenceSegmentation(text):\n",
    "    segmentedSentence = nltk.sent_tokenize(text)\n",
    "    return segmentedSentence"
   ]
  },
  {
   "cell_type": "code",
   "execution_count": 26,
   "metadata": {},
   "outputs": [
    {
     "name": "stdout",
     "output_type": "stream",
     "text": [
      "ENCODING: you will say what needeth all this discourse touching the danger of seamen, {'input_ids': tensor([[    2,   969,   976,  1312,  1023, 16787,   924,   905,  5997,  3653,\n",
      "           828,  2187,   834, 12435,     3,     0,     0,     0,     0,     0,\n",
      "             0,     0,     0,     0,     0,     0,     0,     0,     0,     0]]), 'token_type_ids': tensor([[0, 0, 0, 0, 0, 0, 0, 0, 0, 0, 0, 0, 0, 0, 0, 0, 0, 0, 0, 0, 0, 0, 0, 0,\n",
      "         0, 0, 0, 0, 0, 0]]), 'attention_mask': tensor([[1, 1, 1, 1, 1, 1, 1, 1, 1, 1, 1, 1, 1, 1, 1, 0, 0, 0, 0, 0, 0, 0, 0, 0,\n",
      "         0, 0, 0, 0, 0, 0]])}\n"
     ]
    },
    {
     "name": "stdout",
     "output_type": "stream",
     "text": [
      "ENCODED: you will say what needeth all this discourse touching the danger of seamen\n",
      "ENCODING: we are met together for another purpose to giue thanks vnto god, {'input_ids': tensor([[   2,  915,  929, 2347, 1770,  869, 1419, 2761,  839, 2691, 5381, 1465,\n",
      "          960,    3,    0,    0,    0,    0,    0,    0,    0,    0,    0,    0,\n",
      "            0,    0,    0,    0,    0,    0]]), 'token_type_ids': tensor([[0, 0, 0, 0, 0, 0, 0, 0, 0, 0, 0, 0, 0, 0, 0, 0, 0, 0, 0, 0, 0, 0, 0, 0,\n",
      "         0, 0, 0, 0, 0, 0]]), 'attention_mask': tensor([[1, 1, 1, 1, 1, 1, 1, 1, 1, 1, 1, 1, 1, 1, 0, 0, 0, 0, 0, 0, 0, 0, 0, 0,\n",
      "         0, 0, 0, 0, 0, 0]])}\n",
      "ENCODED: we are met together for another purpose to giue thanks vnto god\n"
     ]
    }
   ],
   "source": [
    "def encode_token(token, tokenizer, model):\n",
    "    inputs = tokenizer(token, return_tensors=\"pt\", truncation=True, padding=\"max_length\", max_length=30)\n",
    "    print(f\"ENCODING: {token}, {inputs}\")\n",
    "    with torch.no_grad():\n",
    "        outputs = model(**inputs)\n",
    "    print(f\"ENCODED: {token}\")\n",
    "    return outputs.last_hidden_state.mean(dim=1)\n",
    "documentText = \"You will say, what needeth all this Discourse, touching the Danger of Sea-men. We are met together for another purpose, to giue thanks vnto God?\"\n",
    "sentences = sentenceSegmentation(documentText)\n",
    "sentence_embeddings = {sentence: encode_token(preprocessTextBySentence(sentence), tokenizer, model) for sentence in sentences}"
   ]
  },
  {
   "cell_type": "code",
   "execution_count": null,
   "metadata": {},
   "outputs": [],
   "source": []
  },
  {
   "cell_type": "code",
   "execution_count": null,
   "metadata": {},
   "outputs": [],
   "source": [
    "sentence_embeddings = {}\n",
    "for sentence in sentences:\n",
    "    processed_sentence = preprocessTextBySentence(sentence)\n",
    "    sentence_embedding = encode_token(processed_sentence, tokenizer, model)\n",
    "    sentence_embeddings[sentence] = sentence_embedding"
   ]
  },
  {
   "cell_type": "code",
   "execution_count": null,
   "metadata": {},
   "outputs": [],
   "source": []
  }
 ],
 "metadata": {
  "kernelspec": {
   "display_name": "Python 3",
   "language": "python",
   "name": "python3"
  },
  "language_info": {
   "codemirror_mode": {
    "name": "ipython",
    "version": 3
   },
   "file_extension": ".py",
   "mimetype": "text/x-python",
   "name": "python",
   "nbconvert_exporter": "python",
   "pygments_lexer": "ipython3",
   "version": "3.11.5"
  }
 },
 "nbformat": 4,
 "nbformat_minor": 2
}
