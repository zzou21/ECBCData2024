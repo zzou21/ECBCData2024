{
 "cells": [
  {
   "cell_type": "markdown",
   "metadata": {},
   "source": [
    "This JupyterNotebook serves to turn the csv format of geneva Bible into a file with an extension .txt\n",
    "\n",
    "Author: Lucas Ma"
   ]
  },
  {
   "cell_type": "code",
   "execution_count": 7,
   "metadata": {},
   "outputs": [
    {
     "name": "stdout",
     "output_type": "stream",
     "text": [
      "The file 'data/bible_full_text.txt' already exists. No new file created.\n"
     ]
    }
   ],
   "source": [
    "import pandas as pd\n",
    "import os\n",
    "\n",
    "# Define the output file name\n",
    "output_file = 'data/bible_full_text.txt'\n",
    "\n",
    "# Check if the output file already exists\n",
    "if not os.path.exists(output_file):\n",
    "    # Load the CSV file into a pandas DataFrame\n",
    "    df = pd.read_csv('data/genevaBible.csv')\n",
    "\n",
    "    # Concatenate all verses into a single string\n",
    "    full_text = ' '.join(df['Text'].tolist())\n",
    "\n",
    "    # Write the full text to the new text file\n",
    "    with open(output_file, 'w', encoding='utf-8') as file:\n",
    "        file.write(full_text)\n",
    "\n",
    "    print(f\"The text has been successfully concatenated and saved to '{output_file}'.\")\n",
    "else:\n",
    "    print(f\"The file '{output_file}' already exists. No new file created.\")\n"
   ]
  }
 ],
 "metadata": {
  "kernelspec": {
   "display_name": "base",
   "language": "python",
   "name": "python3"
  },
  "language_info": {
   "codemirror_mode": {
    "name": "ipython",
    "version": 3
   },
   "file_extension": ".py",
   "mimetype": "text/x-python",
   "name": "python",
   "nbconvert_exporter": "python",
   "pygments_lexer": "ipython3",
   "version": "3.10.14"
  }
 },
 "nbformat": 4,
 "nbformat_minor": 2
}
