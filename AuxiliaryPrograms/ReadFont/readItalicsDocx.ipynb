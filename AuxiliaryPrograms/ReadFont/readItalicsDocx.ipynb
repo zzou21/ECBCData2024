{
 "cells": [
  {
   "cell_type": "markdown",
   "metadata": {},
   "source": [
    "Identifying italicized words in a docx file."
   ]
  },
  {
   "cell_type": "code",
   "execution_count": 4,
   "metadata": {},
   "outputs": [
    {
     "name": "stdout",
     "output_type": "stream",
     "text": [
      "Standing: normal\n",
      "above: italic\n",
      "the: italic\n",
      "coast: italic\n",
      "that: normal\n",
      "has: bold\n",
      "watched: bold\n",
      "fifteen: normal\n",
      "generations: italic\n",
      "of: italic\n",
      "maritime: italic\n",
      "ambition: normal\n",
      "and: normal\n",
      "spilled: normal\n",
      "blood,: normal\n",
      "the: normal\n",
      "stone: normal\n",
      "statue: normal\n",
      "of: normal\n",
      "Ludmilla: normal\n",
      "Felischena: normal\n",
      "greeted: normal\n",
      "travelers: normal\n",
      "from: normal\n",
      "the: normal\n",
      "Los: normal\n",
      "Angeles: normal\n",
      "direction: normal\n",
      "with: normal\n",
      "an: normal\n",
      "eternal: italic\n",
      "smile: italic\n",
      "on: italic\n",
      "her: italic\n",
      "face: italic\n",
      "and: italic\n",
      "a: italic\n",
      "torch: italic\n",
      "in: italic\n",
      "her: normal\n",
      "left: normal\n",
      "hand,: normal\n",
      "something: normal\n",
      "that: normal\n",
      "the: normal\n",
      "sculptor: normal\n",
      "Giovanna: normal\n",
      "Cruz-Rundstedt: bold\n",
      "insisted: bold\n",
      "on: normal\n",
      "adding: normal\n",
      "before: normal\n",
      "passing: normal\n",
      "away.: normal\n"
     ]
    }
   ],
   "source": [
    "from docx import Document\n",
    "\n",
    "def extract_text_styles(docx_file):\n",
    "    document = Document(docx_file)\n",
    "    words_with_styles = []\n",
    "\n",
    "    for paragraph in document.paragraphs:\n",
    "        for run in paragraph.runs:\n",
    "            text = run.text\n",
    "            if run.italic:\n",
    "                style = \"italic\"\n",
    "            elif run.bold:\n",
    "                style = \"bold\"\n",
    "            else:\n",
    "                style = \"normal\"\n",
    "            words = text.split()\n",
    "            for word in words:\n",
    "                words_with_styles.append((word, style))\n",
    "    \n",
    "    return words_with_styles\n",
    "\n",
    "# Usage example\n",
    "docx_file = '/Users/Jerry/Desktop/test.docx'\n",
    "words_with_styles = extract_text_styles(docx_file)\n",
    "\n",
    "# Print words with their styles\n",
    "for word, style in words_with_styles:\n",
    "    print(f\"{word}: {style}\")\n"
   ]
  }
 ],
 "metadata": {
  "kernelspec": {
   "display_name": "Python 3",
   "language": "python",
   "name": "python3"
  },
  "language_info": {
   "codemirror_mode": {
    "name": "ipython",
    "version": 3
   },
   "file_extension": ".py",
   "mimetype": "text/x-python",
   "name": "python",
   "nbconvert_exporter": "python",
   "pygments_lexer": "ipython3",
   "version": "3.11.5"
  }
 },
 "nbformat": 4,
 "nbformat_minor": 2
}
