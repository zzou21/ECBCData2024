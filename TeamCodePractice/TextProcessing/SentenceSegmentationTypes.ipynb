{
 "cells": [
  {
   "cell_type": "markdown",
   "metadata": {},
   "source": [
    "Sentence segmentation experiment for weeks of May 20 and May 27.\n",
    "\n",
    "Jerry Zou\n",
    "\n",
    "Experiment passages:\\\n",
    "From Edward Waterhouse (1622):\\\n",
    "'''\n",
    "Thus insinuating himselfe to this King for his religious purposes, he conferred after with him oft, and intimated to him matters of our Religion; and thus far the Pagan confessed, moued by naturall Principles, that our God was a good God, and better much then theirs, in that he had with so many good things aboue them endowed vs. Hee told him, if hee would serue our God, hee should bee partaker of all those good things wee had, and of farre greater then sense or reason euer could imagine. Hee wonne vpon him, as hee thought in many things, so as hee gaue him fayre hearing and good answer, and seemed to be much pleased with his discourse and in his company. And both hee and his people for the daily courtesies this good Gentleman did to one or other of them, did professe such outward loue and respect vnto him, as nothing could seeme more: but all was little regarded after by this Viperous brood, as the sequell shewed: for they not only wilfully murdered him, but cruelly and felly, out of deuillish malice, did so many barbarous despights and foule scornes after to his dead corpes, as are vnbefitting to be heard by any ciuill eare. One thing I cannot omit, that when this good Gentleman vpon his fatall hower, was warned by his man (who perceiued some treachery intended to them by these hell-hounds) to looke to himselfe, and withall ranne away for feare of the mischiefe he strongly apprehended, and so saued his owne life; yet his Master, out of the conscience of his owne good meaning, and faire deserts euer towards them, was so void of all suspition, and so full of confidence, that they had sooner killed him, then hee could or would beleeue they meant any ill against him. Thus the sinnes of these wicked Infidels, haue made them vnworthy of enioying him, and the eternall good that he most zealously alwayes intended to them.\n",
    "''':"
   ]
  },
  {
   "cell_type": "markdown",
   "metadata": {},
   "source": [
    "Manual sentence segmentation:\n",
    "\n",
    "Thus insinuating himselfe to this King for his religious purposes, he conferred after with him oft, and intimated to him matters of our Religion;\n",
    "\n",
    "and thus far the Pagan confessed, moued by naturall Principles, that our God was a good God, and better much then theirs, in that he had with so many good things aboue them endowed vs.\n",
    "\n",
    "Hee told him, if hee would serue our God, hee should bee partaker of all those good things wee had, and of farre greater then sense or reason euer could imagine.\n",
    "\n",
    "Hee wonne vpon him, as hee thought in many things, so as hee gaue him fayre hearing and good answer, and seemed to be much pleased with his discourse and in his company.\n",
    "\n",
    "And both hee and his people for the daily courtesies this good Gentleman did to one or other of them, did professe such outward loue and respect vnto him, as nothing could seeme more:\n",
    "\n",
    "but all was little regarded after by this Viperous brood, as the sequell shewed:\n",
    "\n",
    "for they not only wilfully murdered him, but cruelly and felly, out of deuillish malice, did so many barbarous despights and foule scornes after to his dead corpes, as are vnbefitting to be heard by any ciuill eare.\n",
    "\n",
    "One thing I cannot omit, that when this good Gentleman vpon his fatall hower, was warned by his man (who perceiued some treachery intended to them by these hell-hounds) to looke to himselfe, and withall ranne away for feare of the mischiefe he strongly apprehended, and so saued his owne life;\n",
    "\n",
    "yet his Master, out of the conscience of his owne good meaning, and faire deserts euer towards them, was so void of all suspition, and so full of confidence, that they had sooner killed him, then hee could or would beleeue they meant any ill against him.\n",
    "\n",
    "Thus the sinnes of these wicked Infidels, haue made them vnworthy of enioying him, and the eternall good that he most zealously alwayes intended to them."
   ]
  },
  {
   "cell_type": "code",
   "execution_count": 1,
   "metadata": {},
   "outputs": [
    {
     "name": "stderr",
     "output_type": "stream",
     "text": [
      "2024-05-27 17:19:28.906595: I tensorflow/core/platform/cpu_feature_guard.cc:210] This TensorFlow binary is optimized to use available CPU instructions in performance-critical operations.\n",
      "To enable the following instructions: AVX2 AVX512F AVX512_VNNI FMA, in other operations, rebuild TensorFlow with the appropriate compiler flags.\n"
     ]
    }
   ],
   "source": [
    "import nltk\n",
    "from nltk.tokenize import sent_tokenize, RegexpTokenizer\n",
    "from nltk.tokenize.punkt import PunktSentenceTokenizer, PunktTrainer\n",
    "import spacy\n",
    "from transformers import pipeline\n",
    "from transformers import BertTokenizer\n",
    "import stanfordnlp\n",
    "from sentence_transformers import SentenceTransformer"
   ]
  },
  {
   "cell_type": "code",
   "execution_count": null,
   "metadata": {},
   "outputs": [],
   "source": [
    "# original passage\n",
    "textNltkDefault = \"Thus insinuating himselfe to this King for his religious purposes, he conferred after with him oft, and intimated to him matters of our Religion; and thus far the Pagan confessed, moued by naturall Principles, that our God was a good God, and better much then theirs, in that he had with so many good things aboue them endowed vs. Hee told him, if hee would serue our God, hee should bee partaker of all those good things wee had, and of farre greater then sense or reason euer could imagine. Hee wonne vpon him, as hee thought in many things, so as hee gaue him fayre hearing and good answer, and seemed to be much pleased with his discourse and in his company. And both hee and his people for the daily courtesies this good Gentleman did to one or other of them, did professe such outward loue and respect vnto him, as nothing could seeme more: but all was little regarded after by this Viperous brood, as the sequell shewed: for they not only wilfully murdered him, but cruelly and felly, out of deuillish malice, did so many barbarous despights and foule scornes after to his dead corpes, as are vnbefitting to be heard by any ciuill eare. One thing I cannot omit, that when this good Gentleman vpon his fatall hower, was warned by his man (who perceiued some treachery intended to them by these hell-hounds) to looke to himselfe, and withall ranne away for feare of the mischiefe he strongly apprehended, and so saued his owne life; yet his Master, out of the conscience of his owne good meaning, and faire deserts euer towards them, was so void of all suspition, and so full of confidence, that they had sooner killed him, then hee could or would beleeue they meant any ill against him. Thus the sinnes of these wicked Infidels, haue made them vnworthy of enioying him, and the eternall good that he most zealously alwayes intended to them.\""
   ]
  }
 ],
 "metadata": {
  "kernelspec": {
   "display_name": "Python 3",
   "language": "python",
   "name": "python3"
  },
  "language_info": {
   "codemirror_mode": {
    "name": "ipython",
    "version": 3
   },
   "file_extension": ".py",
   "mimetype": "text/x-python",
   "name": "python",
   "nbconvert_exporter": "python",
   "pygments_lexer": "ipython3",
   "version": "3.11.5"
  }
 },
 "nbformat": 4,
 "nbformat_minor": 2
}
