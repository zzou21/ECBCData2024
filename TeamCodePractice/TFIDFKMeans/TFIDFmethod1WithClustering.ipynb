{
 "cells": [
  {
   "cell_type": "markdown",
   "metadata": {},
   "source": [
    "TF-IDF practice. Method 1: relying mostly on TfidfVectorizer without pandas\n",
    "\n",
    "This practice file uses the \"EEBOphase2_1590-1639_body_texts\" folder from DCC.\n",
    "\n",
    "Helpful tutorial: https://www.youtube.com/watch?v=i74DVqMsRWY\n",
    "\n",
    "Helpful note: \"the function get_feature_namest() for the vectorizer is now deprecated; when version 1.2 of sklearn is released the function will be completely removed (thus breaking the code in this video). The new standard function to use is to change the line to: vectorizer.get_feature_names_out().\""
   ]
  },
  {
   "cell_type": "code",
   "execution_count": 1,
   "metadata": {},
   "outputs": [],
   "source": [
    "from sklearn.feature_extraction.text import TfidfVectorizer\n",
    "from sklearn.cluster import KMeans\n",
    "from sklearn.metrics import adjusted_rand_score\n",
    "import string\n",
    "from nltk.corpus import stopwords\n",
    "import json\n",
    "import glob\n",
    "import re\n",
    "import os"
   ]
  },
  {
   "cell_type": "code",
   "execution_count": 2,
   "metadata": {},
   "outputs": [],
   "source": [
    "# Put the folder pathname here:\n",
    "folderPath = \"/Users/Jerry/Desktop/Submission Diary entries\"\n",
    "\n",
    "# The following dictionary stores the content of all files. The document is in this format - key: (type: string. file name without \".txt\") | value: (type: string. the text of the document combined into one paragraph):\n",
    "\n",
    "titleContentDictionary = {}\n",
    "\n",
    "# The loadFolder function below reads the \"folderPath\" variable and loads content into the dictionary above.\n",
    "def loadFolder(folder):\n",
    "    for filename in os.listdir(folder):\n",
    "        if filename.endswith(\".txt\"):\n",
    "            filePath = os.path.join(folder, filename)\n",
    "            with open(filePath, \"r\") as fileToOpen:\n",
    "                content = fileToOpen.read()\n",
    "                content = content.replace(\"\\n\", \"\")\n",
    "                content = \" \".join(content.split())\n",
    "                titleContentDictionary[filename[:-4]] = content\n",
    "loadFolder(folderPath)\n",
    "\n",
    "#FOR DEBUG: print(titleContentDictionary[\"A00002\"])\n",
    "\n",
    "# USE THIS CODE IF YOU WISH TO STORE THE CONTENT OF FILES IN A JSON:\n",
    "# with open(\"file.json\", \"w\", encoding=\"utf-8\") as jsonDestination:\n",
    "#     json.dump(titleContentDictionary, jsonDestination, indent=4)"
   ]
  },
  {
   "cell_type": "code",
   "execution_count": 3,
   "metadata": {},
   "outputs": [],
   "source": [
    "# Fucntion to clean stopwords and punctuation marks. Call this function if needed\n",
    "def cleanStopwordsPunctuation(content):\n",
    "    splittedContent = content.split()\n",
    "    withStopwordsRemovedList = []\n",
    "    for word in splittedContent:\n",
    "        if word not in stopwords.words(\"english\"):\n",
    "            withStopwordsRemovedList.append(word)\n",
    "    withStopwordsRemovedString = \" \".join(withStopwordsRemovedList)\n",
    "    punctuationRemoved = withStopwordsRemovedString.translate(str.maketrans(\"\", \"\", string.punctuation))\n",
    "\n",
    "    return(punctuationRemoved)"
   ]
  },
  {
   "cell_type": "code",
   "execution_count": 4,
   "metadata": {},
   "outputs": [],
   "source": [
    "# Define TF-IDF vectorizer\n",
    "vectorizer = TfidfVectorizer(\n",
    "    lowercase=True,\n",
    "    max_features = 100, # an integer. This decides how many output terms from most frequent to least frequent you wish the program to provide. For example, max_features = 100 means you wish to see the 100 most frequent terms (ngrams) in the corpus.\n",
    "    max_df = 0.8, # a float. Words appearing in over 80% of documents will be ignored.\n",
    "    min_df = 5, # an integer. Words appearing in less than 5 documents will be ignored.\n",
    "    ngram_range = (1,3), # looking at single word, double-word-group (bigram), and triple-word-group (trigram). From 1 to 3-term pairs. Could change the number to customize the size of the terms you wish to see. E.g.: (2, 3) would mean only searching for bigrams and trigrams.\n",
    "    stop_words = \"english\"\n",
    ")"
   ]
  },
  {
   "cell_type": "code",
   "execution_count": 5,
   "metadata": {},
   "outputs": [],
   "source": [
    "# This variable grabs only the values (or the file content) from the \"titleContentDictionary\" dictionary, since vectorizer only takes in content and not file name. \n",
    "contentAsDictValues = titleContentDictionary.values() # Type: <class \"dict_values\"> . This is NOT a list and should not be passed into \"vectorizer.fit_transform\" in the next cell!\n",
    "\n",
    "# This variable stores the content of the files and should be passed into \"vectorizer.fit_transform\" in the next file.\n",
    "contentAsList = []\n",
    "\n",
    "# This \"for\" loop is to turn the <class \"dict_values\"> variable \"contentAsDictValues\" into the <class \"list> variable \"contentAsList\"\n",
    "for chapter in titleContentDictionary.values():\n",
    "    contentAsList.append(chapter)\n",
    "#FOR DEBUG: print(type(contentAsList))"
   ]
  },
  {
   "cell_type": "code",
   "execution_count": 6,
   "metadata": {},
   "outputs": [
    {
     "name": "stdout",
     "output_type": "stream",
     "text": [
      "<class 'scipy.sparse._csr.csr_matrix'>\n",
      "['away', 'day', 'days', 'doubt', 'end', 'far', 'felt', 'gave', 'going', 'good', 'got', 'huysmans', 'knew', 'know', 'life', 'love', 'make', 'minutes', 'moment', 'morning', 'night', 'old', 'people', 'real', 'realised', 'right', 'room', 'rue', 'spent', 'thing', 'things', 've', 'world']\n",
      "['end', 'far', 'good', 'huysmans', 'life', 'soon', 'thought', 'told']\n",
      "['abbes', 'asked', 'away', 'ben', 'ben abbes', 'brotherhood', 'came', 'case', 'come', 'did', 'don', 'doubt', 'end', 'felt', 'france', 'french', 'going', 'good', 'got', 'hadn', 'idea', 'islam', 'kind', 'know', 'life', 'll', 'looked', 'man', 'men', 'minutes', 'moment', 'muslim', 'myriam', 'national', 'new', 'night', 'obviously', 'paris', 'people', 'realised', 'really', 'right', 'room', 'said', 'saw', 'second', 'soon', 'started', 'thing', 'things', 'think', 'thought', 'told', 'took', 'turned', 'university', 'want', 'wanted', 'world', 'year', 'years', 'yes']\n",
      "['asked', 'book', 'came', 'case', 'come', 'couldn', 'course', 'did', 'don', 'end', 'far', 'felt', 'france', 'french', 'gave', 'god', 'going', 'good', 'got', 'hadn', 'hand', 'huysmans', 'knew', 'know', 'later', 'left', 'life', 'll', 'long', 'looked', 'love', 'make', 'maybe', 'men', 'minutes', 'moment', 'morning', 'muslim', 'myriam', 'national', 'night', 'obviously', 'old', 'paris', 'people', 'realised', 'really', 'right', 'room', 'said', 'saw', 'say', 'spent', 'started', 'thing', 'things', 'think', 'thought', 'told', 'took', 'turned', 'university', 've', 'want', 'wanted', 'war', 'world', 'years', 'young']\n",
      "['case', 'come', 'course', 'day', 'did', 'don', 'doubt', 'end', 'god', 'hadn', 'having', 'huysmans', 'idea', 'knew', 'know', 'later', 'life', 'long', 'love', 'maybe', 'men', 'morning', 'muslim', 'myriam', 'new', 'night', 'old', 'paris', 'place', 'political', 'really', 'rediger', 'room', 'rue', 'second', 'spent', 'things', 'think', 'thought', 'took', 'true', 'university', 'want', 'women', 'years']\n",
      "['abbes', 'asked', 'away', 'ben', 'ben abbes', 'book', 'came', 'case', 'century', 'certain', 'clearly', 'come', 'couldn', 'course', 'day', 'did', 'don', 'end', 'europe', 'far', 'felt', 'france', 'french', 'gave', 'god', 'going', 'good', 'got', 'hadn', 'hand', 'having', 'huysmans', 'idea', 'islam', 'kind', 'knew', 'know', 'later', 'life', 'll', 'long', 'looked', 'make', 'man', 'maybe', 'men', 'muslim', 'new', 'night', 'obviously', 'old', 'paris', 'people', 'place', 'political', 'real', 'really', 'rediger', 'right', 'room', 'said', 'saw', 'say', 'second', 'spent', 'started', 'thing', 'things', 'think', 'thought', 'told', 'took', 'true', 'university', 'want', 'wanted', 'women', 'work', 'world', 'year', 'years', 'yes']\n",
      "['abbes', 'asked', 'away', 'ben', 'ben abbes', 'came', 'certain', 'clearly', 'come', 'course', 'day', 'did', 'end', 'far', 'felt', 'french', 'gave', 'good', 'got', 'hadn', 'hand', 'having', 'kind', 'knew', 'know', 'll', 'long', 'looked', 'make', 'man', 'maybe', 'men', 'minutes', 'moment', 'new', 'obviously', 'old', 'paris', 'people', 'probably', 'real', 'really', 'rediger', 'right', 'said', 'saw', 'say', 'spent', 'think', 'thought', 'told', 'took', 'turned', 'university', 'wanted', 'women', 'work', 'world', 'yes']\n",
      "['book', 'certain', 'come', 'couldn', 'course', 'day', 'days', 'did', 'felt', 'french', 'gave', 'going', 'good', 'hadn', 'hand', 'huysmans', 'kind', 'know', 'later', 'left', 'll', 'long', 'make', 'man', 'moment', 'obviously', 'old', 'paris', 'real', 'realised', 'really', 'rediger', 'right', 'room', 'rue', 'said', 'say', 'second', 'thing', 'think', 'thought', 'told', 've', 'wanted', 'work', 'world', 'year', 'years', 'yes']\n",
      "['abbes', 'away', 'ben', 'ben abbes', 'came', 'case', 'couldn', 'day', 'days', 'did', 'end', 'felt', 'france', 'gave', 'god', 'got', 'hadn', 'hand', 'huysmans', 'idea', 'kind', 'later', 'left', 'life', 'long', 'looked', 'love', 'make', 'man', 'maybe', 'minutes', 'morning', 'myriam', 'new', 'old', 'paris', 'people', 'place', 'realised', 'really', 'right', 'room', 'said', 'say', 'second', 'started', 'think', 'thought', 'true', 'wanted', 'war', 'work', 'world', 'years', 'young']\n",
      "['asked', 'away', 'book', 'brotherhood', 'case', 'century', 'clearly', 'couldn', 'course', 'day', 'days', 'did', 'don', 'end', 'france', 'gave', 'going', 'good', 'got', 'having', 'huysmans', 'idea', 'know', 'left', 'life', 'long', 'looked', 'love', 'make', 'man', 'maybe', 'men', 'muslim', 'myriam', 'national', 'new', 'night', 'old', 'political', 'really', 'rediger', 'right', 'room', 'rue', 'said', 'soon', 'spent', 'told', 'took', 'true', 'university', 'young']\n",
      "['clearly', 'days', 'gave', 'good', 'islam', 'kind', 'knew', 'long', 'looked', 'love', 'maybe', 'moment', 'national', 'new', 'obviously', 'paris', 'political', 'right', 'say', 'thing', 'things', 'thought', 'took', 'turned', 'women', 'work', 'world', 'years', 'young']\n",
      "['asked', 'couldn', 'course', 'did', 'don', 'end', 'felt', 'french', 'gave', 'going', 'good', 'got', 'hadn', 'hand', 'huysmans', 'idea', 'kind', 'know', 'left', 'long', 'make', 'man', 'maybe', 'men', 'minutes', 'moment', 'myriam', 'new', 'night', 'old', 'people', 'place', 'probably', 'realised', 'really', 'right', 'room', 'said', 'say', 'second', 'thing', 'things', 'think', 'took', 'turned', 'university', 've', 'want', 'wanted', 'women', 'yes']\n",
      "['away', 'book', 'clearly', 'couldn', 'course', 'days', 'did', 'don', 'doubt', 'felt', 'french', 'got', 'having', 'huysmans', 'know', 'later', 'left', 'life', 'long', 'love', 'make', 'maybe', 'morning', 'night', 'obviously', 'paris', 'probably', 'realised', 'right', 'room', 'rue', 'soon', 'spent', 'thing', 'thought', 'took', 'university', 'want', 'world', 'years']\n",
      "['abbes', 'asked', 'away', 'ben', 'ben abbes', 'book', 'brotherhood', 'came', 'case', 'century', 'certain', 'clearly', 'come', 'couldn', 'course', 'day', 'days', 'did', 'don', 'doubt', 'end', 'europe', 'far', 'france', 'french', 'god', 'going', 'good', 'hadn', 'huysmans', 'idea', 'islam', 'kind', 'knew', 'know', 'later', 'left', 'life', 'll', 'long', 'love', 'make', 'man', 'moment', 'morning', 'muslim', 'myriam', 'national', 'new', 'old', 'paris', 'people', 'political', 'probably', 'real', 'realised', 'really', 'right', 'room', 'said', 'saw', 'say', 'second', 'spent', 'thing', 'things', 'think', 'thought', 'took', 'true', 'turned', 've', 'war', 'work', 'world', 'year', 'years', 'yes', 'young']\n",
      "['away', 'book', 'clearly', 'couldn', 'course', 'did', 'doubt', 'end', 'far', 'felt', 'god', 'going', 'good', 'got', 'hand', 'huysmans', 'idea', 'islam', 'kind', 'knew', 'know', 'later', 'left', 'life', 'long', 'maybe', 'minutes', 'morning', 'muslim', 'myriam', 'night', 'paris', 'place', 'realised', 'really', 'rediger', 'rue', 'spent', 'started', 'thing', 'things', 'think', 'thought', 'told', 'turned', 've', 'wanted', 'work', 'years', 'yes']\n",
      "['asked', 'away', 'book', 'came', 'case', 'century', 'certain', 'clearly', 'come', 'couldn', 'course', 'day', 'did', 'don', 'doubt', 'end', 'europe', 'far', 'felt', 'france', 'french', 'gave', 'god', 'going', 'good', 'got', 'hand', 'having', 'huysmans', 'idea', 'islam', 'kind', 'knew', 'know', 'later', 'left', 'life', 'll', 'long', 'looked', 'man', 'maybe', 'men', 'minutes', 'moment', 'morning', 'muslim', 'new', 'night', 'obviously', 'old', 'paris', 'people', 'place', 'probably', 'real', 'realised', 'really', 'rediger', 'right', 'room', 'rue', 'said', 'saw', 'say', 'second', 'spent', 'started', 'thing', 'think', 'thought', 'told', 'took', 'true', 'turned', 'university', 've', 'want', 'wanted', 'war', 'work', 'world', 'year', 'years', 'yes', 'young']\n",
      "['abbes', 'asked', 'away', 'ben', 'ben abbes', 'book', 'brotherhood', 'case', 'century', 'certain', 'clearly', 'come', 'couldn', 'course', 'day', 'days', 'did', 'don', 'doubt', 'europe', 'far', 'france', 'french', 'gave', 'god', 'going', 'good', 'hand', 'having', 'huysmans', 'idea', 'islam', 'kind', 'knew', 'know', 'later', 'left', 'life', 'll', 'long', 'looked', 'make', 'maybe', 'morning', 'muslim', 'national', 'new', 'night', 'obviously', 'old', 'paris', 'people', 'place', 'political', 'probably', 'real', 'really', 'right', 'room', 'rue', 'said', 'saw', 'say', 'second', 'soon', 'spent', 'started', 'thing', 'things', 'think', 'thought', 'told', 'took', 'true', 'turned', 'university', 've', 'want', 'wanted', 'war', 'work', 'world', 'years', 'yes', 'young']\n",
      "['case', 'come', 'day', 'days', 'far', 'felt', 'france', 'gave', 'going', 'got', 'huysmans', 'idea', 'know', 'later', 'left', 'looked', 'make', 'maybe', 'men', 'minutes', 'moment', 'morning', 'myriam', 'national', 'night', 'paris', 'people', 'place', 'probably', 'real', 'really', 'right', 'rue', 'said', 'second', 'soon', 'started', 'things', 'thought', 'told', 'took', 'turned', 'university', 'want', 'work', 'years']\n",
      "['came', 'case', 'century', 'certain', 'clearly', 'course', 'days', 'did', 'don', 'doubt', 'end', 'europe', 'felt', 'french', 'god', 'going', 'good', 'got', 'hadn', 'having', 'huysmans', 'kind', 'knew', 'know', 'later', 'left', 'life', 'long', 'looked', 'love', 'man', 'maybe', 'men', 'minutes', 'moment', 'myriam', 'new', 'old', 'paris', 'people', 'place', 'probably', 'real', 'realised', 'really', 'said', 'saw', 'say', 'second', 'soon', 'spent', 'things', 'think', 'thought', 'took', 'true', 'university', 'want', 'wanted', 'women', 'work', 'world', 'year', 'years', 'young']\n",
      "['abbes', 'away', 'ben', 'ben abbes', 'book', 'came', 'case', 'century', 'certain', 'clearly', 'come', 'couldn', 'course', 'doubt', 'end', 'europe', 'french', 'god', 'good', 'got', 'hadn', 'huysmans', 'idea', 'islam', 'kind', 'knew', 'later', 'left', 'life', 'long', 'make', 'man', 'men', 'moment', 'muslim', 'new', 'obviously', 'old', 'political', 'probably', 'real', 'really', 'rediger', 'right', 'rue', 'said', 'saw', 'say', 'spent', 'started', 'think', 'took', 'true', 'women', 'work', 'world', 'year', 'yes']\n",
      "['abbes', 'away', 'ben', 'ben abbes', 'came', 'case', 'century', 'certain', 'course', 'day', 'days', 'did', 'don', 'doubt', 'end', 'felt', 'france', 'good', 'got', 'hadn', 'huysmans', 'idea', 'islam', 'kind', 'later', 'left', 'life', 'long', 'looked', 'make', 'man', 'muslim', 'national', 'new', 'old', 'paris', 'people', 'place', 'real', 'realised', 'really', 'rediger', 'right', 'room', 'rue', 'said', 'second', 'thing', 'thought', 'true', 'turned', 'war', 'women', 'work', 'world', 'year', 'years']\n",
      "['away', 'book', 'came', 'case', 'certain', 'clearly', 'couldn', 'course', 'day', 'days', 'did', 'don', 'europe', 'far', 'france', 'going', 'good', 'got', 'hadn', 'hand', 'idea', 'knew', 'know', 'later', 'left', 'life', 'long', 'looked', 'love', 'make', 'man', 'maybe', 'men', 'minutes', 'moment', 'morning', 'myriam', 'night', 'obviously', 'old', 'paris', 'people', 'place', 'probably', 'real', 'realised', 'really', 'right', 'room', 'said', 'saw', 'say', 'soon', 'spent', 'started', 'things', 'think', 'thought', 'told', 'took', 'turned', 've', 'wanted', 'war', 'work', 'world', 'year', 'years', 'yes', 'young']\n",
      "['asked', 'brotherhood', 'case', 'century', 'certain', 'clearly', 'come', 'couldn', 'course', 'day', 'did', 'don', 'doubt', 'france', 'french', 'gave', 'going', 'got', 'having', 'huysmans', 'knew', 'know', 'left', 'long', 'looked', 'make', 'man', 'maybe', 'men', 'moment', 'morning', 'muslim', 'new', 'old', 'paris', 'people', 'political', 'probably', 'real', 'realised', 'really', 'room', 'said', 'say', 'second', 'think', 'thought', 'told', 'took', 'true', 'turned', 'university', 'women', 'work', 'world', 'year', 'years', 'young']\n",
      "['abbes', 'ben', 'ben abbes', 'century', 'clearly', 'come', 'days', 'doubt', 'end', 'europe', 'felt', 'france', 'french', 'got', 'hadn', 'having', 'huysmans', 'idea', 'kind', 'knew', 'later', 'left', 'life', 'long', 'looked', 'man', 'minutes', 'morning', 'myriam', 'national', 'old', 'people', 'place', 'political', 'real', 'realised', 'right', 'say', 'second', 'thing', 'things', 'took', 'turned', 'war', 'years', 'yes', 'young']\n",
      "['asked', 'came', 'day', 'days', 'doubt', 'end', 'france', 'french', 'gave', 'good', 'got', 'kind', 'knew', 'later', 'll', 'make', 'man', 'maybe', 'national', 'new', 'place', 'political', 'probably', 'realised', 'really', 'rue', 'said', 'say', 'thing', 'things', 'thought', 'told', 'took', 'true', 'university', 'wanted', 'year', 'young']\n",
      "['came', 'case', 'century', 'clearly', 'come', 'couldn', 'course', 'day', 'days', 'did', 'felt', 'gave', 'going', 'good', 'got', 'hadn', 'hand', 'huysmans', 'idea', 'kind', 'knew', 'later', 'life', 'long', 'looked', 'man', 'maybe', 'minutes', 'morning', 'muslim', 'myriam', 'new', 'night', 'old', 'people', 'place', 'probably', 'realised', 'really', 'room', 'said', 'say', 'second', 'soon', 'spent', 'started', 'thing', 'things', 'think', 'thought', 'turned', 'university', 'wanted', 'women', 'work', 'year', 'years', 'yes', 'young']\n",
      "['away', 'came', 'certain', 'couldn', 'day', 'days', 'doubt', 'end', 'felt', 'french', 'hadn', 'hand', 'idea', 'kind', 'knew', 'left', 'life', 'long', 'make', 'man', 'maybe', 'men', 'muslim', 'new', 'obviously', 'paris', 'political', 'probably', 'right', 'say', 'second', 'spent', 'things', 'think', 'took', 'turned', 'university', 'women', 'years']\n",
      "['abbes', 'asked', 'away', 'ben', 'ben abbes', 'came', 'certain', 'clearly', 'come', 'couldn', 'course', 'day', 'days', 'did', 'don', 'doubt', 'end', 'far', 'felt', 'going', 'good', 'got', 'hadn', 'having', 'idea', 'islam', 'kind', 'knew', 'know', 'later', 'left', 'life', 'long', 'looked', 'love', 'make', 'man', 'maybe', 'men', 'minutes', 'moment', 'muslim', 'myriam', 'new', 'obviously', 'old', 'paris', 'people', 'place', 'political', 'probably', 'realised', 'really', 'right', 'room', 'said', 'saw', 'say', 'soon', 'spent', 'started', 'thing', 'things', 'think', 'thought', 'told', 'took', 'true', 'turned', 've', 'want', 'women', 'work', 'world', 'years', 'yes', 'young']\n",
      "['asked', 'brotherhood', 'came', 'case', 'certain', 'come', 'couldn', 'day', 'did', 'don', 'end', 'far', 'felt', 'france', 'french', 'going', 'got', 'having', 'idea', 'kind', 'know', 'later', 'left', 'll', 'long', 'looked', 'man', 'maybe', 'men', 'minutes', 'moment', 'muslim', 'national', 'new', 'obviously', 'old', 'people', 'place', 'political', 'probably', 'real', 'realised', 'really', 'rediger', 'right', 'rue', 'said', 'saw', 'say', 'second', 'soon', 'thing', 'things', 'think', 'thought', 'told', 'turned', 'university', 've', 'want', 'wanted', 'women', 'world', 'years', 'yes']\n",
      "['abbes', 'ben', 'ben abbes', 'brotherhood', 'clearly', 'come', 'course', 'day', 'end', 'far', 'french', 'gave', 'going', 'having', 'islam', 'knew', 'life', 'looked', 'make', 'minutes', 'moment', 'muslim', 'national', 'night', 'obviously', 'paris', 'political', 'probably', 'really', 'said', 'say', 'second', 'soon', 'spent', 'took', 'turned', 'wanted', 'world']\n",
      "['asked', 'came', 'clearly', 'couldn', 'course', 'did', 'don', 'doubt', 'end', 'france', 'gave', 'going', 'got', 'hadn', 'hand', 'islam', 'know', 'later', 'left', 'long', 'looked', 'make', 'minutes', 'new', 'obviously', 'paris', 'realised', 'really', 'rediger', 'right', 'room', 'rue', 'said', 'saw', 'say', 'things', 'think', 'took', 'university', 'wanted', 'work', 'years']\n",
      "['away', 'certain', 'clearly', 'couldn', 'days', 'did', 'doubt', 'end', 'europe', 'france', 'french', 'got', 'having', 'huysmans', 'kind', 'knew', 'left', 'life', 'long', 'looked', 'love', 'man', 'maybe', 'morning', 'national', 'new', 'night', 'obviously', 'paris', 'people', 'probably', 'real', 'realised', 'think', 'told', 'took', 'university', 'work', 'year', 'years']\n",
      "['abbes', 'away', 'ben', 'ben abbes', 'book', 'brotherhood', 'came', 'case', 'century', 'certain', 'clearly', 'come', 'couldn', 'day', 'days', 'did', 'doubt', 'end', 'europe', 'far', 'felt', 'france', 'french', 'gave', 'god', 'good', 'got', 'hadn', 'having', 'huysmans', 'kind', 'knew', 'left', 'life', 'long', 'looked', 'love', 'make', 'men', 'moment', 'muslim', 'myriam', 'national', 'new', 'obviously', 'old', 'paris', 'people', 'place', 'political', 'probably', 'real', 'really', 'right', 'rue', 'said', 'say', 'soon', 'started', 'thing', 'things', 'thought', 'took', 'true', 'university', 've', 'wanted', 'war', 'world', 'years', 'yes', 'young']\n",
      "['abbes', 'asked', 'ben', 'ben abbes', 'came', 'case', 'century', 'clearly', 'couldn', 'course', 'day', 'did', 'don', 'end', 'god', 'good', 'got', 'hand', 'huysmans', 'idea', 'knew', 'later', 'left', 'life', 'll', 'long', 'looked', 'love', 'make', 'man', 'maybe', 'men', 'minutes', 'moment', 'morning', 'muslim', 'national', 'new', 'night', 'obviously', 'old', 'people', 'place', 'political', 'probably', 'realised', 'really', 'right', 'room', 'said', 'saw', 'say', 'soon', 'started', 'thing', 'things', 'think', 'thought', 'told', 'took', 'true', 'world', 'year', 'years']\n",
      "['abbes', 'away', 'ben', 'ben abbes', 'came', 'case', 'century', 'certain', 'clearly', 'day', 'days', 'don', 'end', 'far', 'france', 'french', 'gave', 'hadn', 'hand', 'idea', 'islam', 'kind', 'later', 'left', 'love', 'moment', 'muslim', 'national', 'new', 'obviously', 'old', 'people', 'place', 'political', 'right', 'said', 'say', 'soon', 'thought', 'told', 'took', 'turned', 'women', 'years', 'young']\n",
      "['book', 'came', 'case', 'century', 'come', 'couldn', 'course', 'day', 'days', 'did', 'don', 'doubt', 'end', 'europe', 'far', 'felt', 'france', 'french', 'gave', 'going', 'got', 'hand', 'having', 'huysmans', 'kind', 'knew', 'know', 'later', 'left', 'll', 'long', 'looked', 'make', 'man', 'maybe', 'morning', 'muslim', 'myriam', 'national', 'new', 'obviously', 'old', 'people', 'place', 'political', 'probably', 'really', 'right', 'room', 'rue', 'said', 'say', 'second', 'soon', 'spent', 'started', 'thing', 'things', 'think', 'thought', 'took', 've', 'want', 'wanted', 'war', 'women', 'world', 'years', 'yes', 'young']\n",
      "['asked', 'away', 'century', 'certain', 'couldn', 'course', 'day', 'don', 'far', 'french', 'gave', 'going', 'good', 'huysmans', 'idea', 'kind', 'knew', 'know', 'later', 'left', 'll', 'long', 'looked', 'love', 'make', 'man', 'men', 'moment', 'new', 'obviously', 'old', 'paris', 'people', 'place', 'political', 'realised', 'right', 'rue', 'said', 'saw', 'say', 'second', 'thing', 'things', 'think', 'thought', 'told', 'took', 'true', 'turned', 'university', 've', 'women', 'work', 'yes', 'young']\n",
      "['away', 'came', 'certain', 'clearly', 'course', 'did', 'don', 'end', 'felt', 'france', 'got', 'hand', 'having', 'knew', 'know', 'later', 'left', 'life', 'maybe', 'minutes', 'myriam', 'new', 'obviously', 'old', 'paris', 'place', 'political', 'real', 'really', 'said', 'say', 'soon', 'started', 'things', 'think', 'thought', 'true', 'turned', 'university', 'wanted', 'year']\n"
     ]
    }
   ],
   "source": [
    "# THESE VARIABLES ARE FOR DEBUG PURPOSES\n",
    "# test1 = \"Los Angeles is a city of quartz, reflecting the lights from a sun that no longer melts even the snowflakes falling during an afternoon in June of 2026.\"\n",
    "# test2 = \"San Francisco is a city of quartz, reflecting the lights from a sun that no longer melts even the snowflakes falling during an afternoon in June of 2026.\"\n",
    "# test3 = \"Detroit is a city of diamonts, reflecting the lights from a moon that no longer melts ice in June of 2025.\"\n",
    "# test4 = \"Detroit is a city of diamonts, reflecting the lights from a moon that no longer melts ice in June of 2025.\"\n",
    "\n",
    "# USE THIS CODE IF YOU ARE STORING YOUR CONTENT IN A JSON RATHER THAN A DICTIONARY\n",
    "# jsonAsList = []\n",
    "\n",
    "# with open(\"/Users/Jerry/Desktop/Submission Diary entries\", \"r\") as file:\n",
    "#     stories = json.load(file)\n",
    "#     for story in stories.values():\n",
    "#         jsonAsList.append(story)\n",
    "\n",
    "vectors = vectorizer.fit_transform(contentAsList)\n",
    "print(type(vectors))\n",
    "featuresNames = vectorizer.get_feature_names_out() #no parameters passed in.\n",
    "dense = vectors.todense()\n",
    "denseList = dense.tolist()\n",
    "\n",
    "#this list will be a list of lists --- i.e.: [[content, content], [content, content], [content, content]] that stores the words deemed as significant by the TF-IDF calculation.\n",
    "allKeywords = []\n",
    "# to interpret the \"allKeywords\" list of lists: the index number of one list is the same as the index number of the file content in the \"contentAsList\" list. For example, allKeywords[0] calls the first list in the \"allKeywords\" list of lists. The words in allKeywords[0] are the significant words from the file content stored in contentAsList[0].\n",
    "\n",
    "for term in denseList:\n",
    "    x = 0\n",
    "    keywords = []\n",
    "    for word in term:\n",
    "        if word > 0:\n",
    "            keywords.append(featuresNames[x])\n",
    "        x += 1\n",
    "    allKeywords.append(keywords)\n",
    "\n",
    "# This \"for\" loop will print out the signifciant words\n",
    "for list in allKeywords:\n",
    "    print(list)\n",
    "\n",
    "\n",
    "# THIS CODE WILL PRINT OUT ALL UNIQUE WORDS DEEMED AS SGINIFICANT FROM THE ENTIRE FOLDER.\n",
    "\n",
    "# allKeywordsver2Set = set()\n",
    "# for list in allKeywords:\n",
    "#     temporarySet = set()\n",
    "#     for word in list:\n",
    "#         temporarySet.add(word)\n",
    "#     for word in temporarySet:\n",
    "#         allKeywordsver2Set.add(word)\n",
    "# print(allKeywordsver2Set)\n"
   ]
  },
  {
   "cell_type": "code",
   "execution_count": 13,
   "metadata": {},
   "outputs": [
    {
     "name": "stdout",
     "output_type": "stream",
     "text": [
      "{0: ['knew', 'll', 'year', 'kind', 'place', 'got', 'doubt', 'told', 'political', 'probably'], 1: ['people', 'turned', 'years', 'days', 'felt', 'national', 'morning', 'university', 'myriam', 'come'], 2: ['huysmans', 'work', 'rediger', 'hand', 'really', 'rue', 'later', 'felt', 'did', 'going'], 3: ['muslim', 'brotherhood', 'national', 'political', 'right', 'going', 'know', 'said', 'war', 'people'], 4: ['huysmans', 'day', 'life', 'good', 'thought', 'end', 'felt', 'soon', 'love', 'far'], 5: ['turned', 'long', 'paris', 'maybe', 'myriam', 'obviously', 'young', 'felt', 'think', 'knew'], 6: ['said', 'new', 'really', 'know', 'don', 'university', 'think', 'rediger', 'life', 'years'], 7: ['rediger', 'islam', 'muslim', 'women', 'men', 'long', 'came', 'old', 'end', 'certain'], 8: ['abbes', 'ben', 'ben abbes', 'new', 'france', 'islam', 'national', 'europe', 'muslim', 'love'], 9: ['year', 'life', 'huysmans', 'years', 'night', 'maybe', 'morning', 'did', 'long', 'certain']}\n"
     ]
    }
   ],
   "source": [
    "# Clustering using KMeans. Cluster the keywords selected from TF-IDF, and cluster the original texts, to see if these clusters have overlaps\n",
    "\n",
    "kClusters = 10 #number of clusters\n",
    "model = KMeans(n_clusters=kClusters, init=\"k-means++\", max_iter=300, n_init=5)\n",
    "model.fit(vectors)\n",
    "\n",
    "order_centroids = model.cluster_centers_.argsort()[:, ::-1]\n",
    "term = vectorizer.get_feature_names_out()\n",
    "\n",
    "clusterResultDict = {}\n",
    "\n",
    "for clusterNumber in range(kClusters):\n",
    "    clusterWords = []\n",
    "    for index in order_centroids[clusterNumber, :10]: #make sure to have the comma here\n",
    "        clusterWords.append(term[index])\n",
    "        clusterResultDict[int(clusterNumber)] = clusterWords\n",
    "print(clusterResultDict)\n",
    "\n",
    "with open(\"KMeansResults.json\", \"w\", encoding=\"utf-8\") as resultFile:\n",
    "    json.dump(clusterResultDict, resultFile, indent=4)"
   ]
  }
 ],
 "metadata": {
  "kernelspec": {
   "display_name": "Python 3",
   "language": "python",
   "name": "python3"
  },
  "language_info": {
   "codemirror_mode": {
    "name": "ipython",
    "version": 3
   },
   "file_extension": ".py",
   "mimetype": "text/x-python",
   "name": "python",
   "nbconvert_exporter": "python",
   "pygments_lexer": "ipython3",
   "version": "3.11.5"
  }
 },
 "nbformat": 4,
 "nbformat_minor": 2
}
