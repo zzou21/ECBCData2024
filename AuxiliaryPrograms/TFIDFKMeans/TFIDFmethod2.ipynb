{
 "cells": [
  {
   "cell_type": "markdown",
   "metadata": {},
   "source": [
    "TF-IDF method 2: TfidfVectorizer with pandas. Better for visualization"
   ]
  },
  {
   "cell_type": "code",
   "execution_count": 4,
   "metadata": {},
   "outputs": [],
   "source": [
    "import string, math, pandas as pd, numpy as np, nltk, json\n",
    "from sklearn.feature_extraction.text import TfidfVectorizer\n",
    "from nltk.corpus import stopwords"
   ]
  },
  {
   "cell_type": "code",
   "execution_count": 7,
   "metadata": {},
   "outputs": [],
   "source": [
    "storyList = []\n",
    "with open(\"RawPre2014 copy.json\", \"r\") as file:\n",
    "    stories = json.load(file)\n",
    "    for story in stories.values():\n",
    "        storyList.append(story)"
   ]
  },
  {
   "cell_type": "code",
   "execution_count": 11,
   "metadata": {},
   "outputs": [],
   "source": [
    "# Preprocess text\n",
    "\n",
    "stopWords = stopwords.words(\"english\")\n",
    "def removeStopwords(text, stopWordsCorpus, punct_str):\n",
    "    cleanStory = \" \".join([word.lower() for word in text.split() if word.lower() not in stopWordsCorpus]).replace(\"\\n\", \" \")\n",
    "    return cleanStory.translate(str.maketrans(\" \", \" \", punct_str))\n",
    "storyCleaned = [removeStopwords(headline, stopWords, string.punctuation) for headline in storyList]\n",
    "#print(storyCleaned)"
   ]
  },
  {
   "cell_type": "code",
   "execution_count": null,
   "metadata": {},
   "outputs": [],
   "source": [
    "#Calculate Tern Frequency (TF)\n",
    "\n"
   ]
  }
 ],
 "metadata": {
  "kernelspec": {
   "display_name": "Python 3",
   "language": "python",
   "name": "python3"
  },
  "language_info": {
   "codemirror_mode": {
    "name": "ipython",
    "version": 3
   },
   "file_extension": ".py",
   "mimetype": "text/x-python",
   "name": "python",
   "nbconvert_exporter": "python",
   "pygments_lexer": "ipython3",
   "version": "3.11.5"
  }
 },
 "nbformat": 4,
 "nbformat_minor": 2
}
