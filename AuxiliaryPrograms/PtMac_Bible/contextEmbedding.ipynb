{
 "cells": [
  {
   "cell_type": "markdown",
   "metadata": {},
   "source": [
    "<span style=\"font-family: Arial; font-size: 14pt;\"><b>Workflow for Counter-factual Machine</b></span><br><br>\n",
    "<span style=\"font-family: Arial; font-size: 12pt;\">Author: Lucas Ma</span>"
   ]
  },
  {
   "cell_type": "markdown",
   "metadata": {},
   "source": [
    "This program follows the following methodology:<br><br>\n",
    "1. Taking in the entire Bible, break them into verse/sentences and embed a verse/sentence as one vector.<br>\n",
    "2. Perform sentence embedding on the inputted \"biblical verse\" (which of course has to be vetted by Jerry's classification machine before to verify its origin).<br>\n",
    "3. Based on cosine similarity, find the closest biblical verse in the vector space.\n",
    "<br><br>\n",
    "4. For this vector, look it up in the dictionary created to store biblical citation metadata.\n",
    "5. With the metadata, go back to the EEBO corpora and pull out the original EEBO context. We could consider if this outputted text needs to be cleaned into modern English spelling."
   ]
  },
  {
   "cell_type": "code",
   "execution_count": null,
   "metadata": {},
   "outputs": [],
   "source": []
  }
 ],
 "metadata": {
  "language_info": {
   "name": "python"
  }
 },
 "nbformat": 4,
 "nbformat_minor": 2
}
