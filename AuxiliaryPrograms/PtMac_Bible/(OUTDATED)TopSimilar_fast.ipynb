{
 "cells": [
  {
   "cell_type": "markdown",
   "metadata": {},
   "source": [
    "**Finding Top Similar Words**\n",
    "\n",
    "Author: Lucas Ma\n",
    "\n",
    "This version of finding cosine similarity has been updated due to its apparent inability to incorporate contextual understanding. Please do not refer to the following code."
   ]
  },
  {
   "cell_type": "code",
   "execution_count": 14,
   "metadata": {},
   "outputs": [
    {
     "name": "stderr",
     "output_type": "stream",
     "text": [
      "Some weights of BertModel were not initialized from the model checkpoint at ./fine-tuned-MacBERTh and are newly initialized: ['bert.pooler.dense.bias', 'bert.pooler.dense.weight']\n",
      "You should probably TRAIN this model on a down-stream task to be able to use it for predictions and inference.\n"
     ]
    },
    {
     "name": "stdout",
     "output_type": "stream",
     "text": [
      "Top 10 words most similar to 'natiue':\n",
      "god: 0.9105949997901917\n",
      "angry: 0.9092453718185425\n",
      "world: 0.907972514629364\n",
      "touch: 0.9073593616485596\n",
      "john: 0.9065189361572266\n",
      "wrought: 0.9064560532569885\n",
      "none: 0.9043810367584229\n",
      "find: 0.9040130376815796\n",
      "argue: 0.9038161635398865\n",
      "preach: 0.90345299243927\n"
     ]
    }
   ],
   "source": [
    "# Import libraries\n",
    "from transformers import AutoTokenizer, AutoModel\n",
    "import torch\n",
    "from torch.nn.functional import cosine_similarity\n",
    "import numpy as np\n",
    "import heapq\n",
    "\n",
    "# Load the tokenizer and model\n",
    "# Load the fine-tuned MacBERTh model and tokenizer\n",
    "model_name = './fine-tuned-MacBERTh'  # Path to your fine-tuned model\n",
    "# model_name = \"emanjavacas/MacBERTh\"\n",
    "\n",
    "tokenizer = AutoTokenizer.from_pretrained(model_name)\n",
    "model = AutoModel.from_pretrained(model_name)\n",
    "\n",
    "# Function to get word embedding\n",
    "def get_word_embedding(word, tokenizer, model):\n",
    "    inputs = tokenizer(word, return_tensors=\"pt\")\n",
    "    outputs = model(**inputs)\n",
    "    embeddings = outputs.last_hidden_state[:, 0, :]\n",
    "    return embeddings.squeeze()\n",
    "\n",
    "\n",
    "def find_top_similar_words(target_word, text, tokenizer, model, top_n=10):\n",
    "    # Tokenize and get embeddings for the target word\n",
    "    target_embedding = get_word_embedding(target_word, tokenizer, model)\n",
    "    \n",
    "    # Tokenize the input text\n",
    "    words = tokenizer.tokenize(text)\n",
    "    word_embeddings = []\n",
    "    \n",
    "    for word in words:\n",
    "        embedding = get_word_embedding(word, tokenizer, model)\n",
    "        word_embeddings.append(embedding)\n",
    "    \n",
    "    # Calculate similarities\n",
    "    similarities = []\n",
    "    for word, embedding in zip(words, word_embeddings):\n",
    "        similarity = cosine_similarity(target_embedding.unsqueeze(0), embedding.unsqueeze(0)).item()\n",
    "        similarities.append((word, similarity))\n",
    "    \n",
    "    top_entries = []\n",
    "    seen_words = set()\n",
    "    for word, similarity in similarities:\n",
    "        if word not in seen_words:\n",
    "            # Add the current entry to the heap\n",
    "            heapq.heappush(top_entries, (similarity, word))\n",
    "            seen_words.add(word)\n",
    "\n",
    "            # If the heap exceeds size n, remove the smallest entry\n",
    "            if len(top_entries) > top_n:\n",
    "                # Remove the smallest entry and also remove it from the seen set\n",
    "                removed_similarity, removed_word = heapq.heappop(top_entries)\n",
    "                seen_words.remove(removed_word)\n",
    "\n",
    "    # Extract the entries from the heap and sort them in descending order\n",
    "    top_entries.sort(reverse=True, key=lambda x: x[0])\n",
    "\n",
    "    return top_entries\n",
    "\n",
    "# Function to read text from a file\n",
    "def read_text_from_file(file_path):\n",
    "    with open(file_path, 'r', encoding='utf-8') as file:\n",
    "        text = file.read()\n",
    "    return text\n",
    "\n",
    "# Path to the .txt file\n",
    "file_path = 'data/A10010_short.txt'\n",
    "\n",
    "# Read the text from the file\n",
    "text = read_text_from_file(file_path)\n",
    "\n",
    "# Target word to find similarities with\n",
    "target_word = \"natiue\"\n",
    "\n",
    "# Find and print top 10 similar words\n",
    "top_similar_words = find_top_similar_words(target_word, text, tokenizer, model, top_n=10)\n",
    "print(f\"Top 10 words most similar to '{target_word}':\")\n",
    "for word, similarity in top_similar_words:\n",
    "    print(f\"{similarity}: {word}\")\n"
   ]
  }
 ],
 "metadata": {
  "kernelspec": {
   "display_name": "base",
   "language": "python",
   "name": "python3"
  },
  "language_info": {
   "codemirror_mode": {
    "name": "ipython",
    "version": 3
   },
   "file_extension": ".py",
   "mimetype": "text/x-python",
   "name": "python",
   "nbconvert_exporter": "python",
   "pygments_lexer": "ipython3",
   "version": "3.10.14"
  }
 },
 "nbformat": 4,
 "nbformat_minor": 2
}
