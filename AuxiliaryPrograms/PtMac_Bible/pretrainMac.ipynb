{
 "cells": [
  {
   "cell_type": "markdown",
   "metadata": {},
   "source": [
    "<span style=\"font-family: Arial; font-size: 14pt;\"><b>Intermediate Training and Fine-tuning of BERT on Geneva Bible</b></span><br><br>\n",
    "<span style=\"font-family: Arial; font-size: 10pt;\">Author: Lucas Ma</span>\\\n",
    "<span style=\"font-family: Arial; font-size: 10pt;\">Edited by: Jerry Zou</span>"
   ]
  },
  {
   "cell_type": "code",
   "execution_count": 3,
   "metadata": {},
   "outputs": [
    {
     "data": {
      "application/vnd.jupyter.widget-view+json": {
       "model_id": "ec1af3d3aa044c8fb053700b69273655",
       "version_major": 2,
       "version_minor": 0
      },
      "text/plain": [
       "Map:   0%|          | 0/1 [00:00<?, ? examples/s]"
      ]
     },
     "metadata": {},
     "output_type": "display_data"
    },
    {
     "data": {
      "application/vnd.jupyter.widget-view+json": {
       "model_id": "5823884002cc41378558ff3e48d46279",
       "version_major": 2,
       "version_minor": 0
      },
      "text/plain": [
       "Map:   0%|          | 0/1 [00:00<?, ? examples/s]"
      ]
     },
     "metadata": {},
     "output_type": "display_data"
    },
    {
     "data": {
      "application/vnd.jupyter.widget-view+json": {
       "model_id": "6a06ce4c67a04e3f8824296e7915c14f",
       "version_major": 2,
       "version_minor": 0
      },
      "text/plain": [
       "  0%|          | 0/3 [00:00<?, ?it/s]"
      ]
     },
     "metadata": {},
     "output_type": "display_data"
    },
    {
     "name": "stdout",
     "output_type": "stream",
     "text": [
      "{'train_runtime': 10.205, 'train_samples_per_second': 0.294, 'train_steps_per_second': 0.294, 'train_loss': 0.8662434418996176, 'epoch': 3.0}\n"
     ]
    },
    {
     "data": {
      "text/plain": [
       "('./fine-tuned-MacBERTh/tokenizer_config.json',\n",
       " './fine-tuned-MacBERTh/special_tokens_map.json',\n",
       " './fine-tuned-MacBERTh/vocab.txt',\n",
       " './fine-tuned-MacBERTh/added_tokens.json',\n",
       " './fine-tuned-MacBERTh/tokenizer.json')"
      ]
     },
     "execution_count": 3,
     "metadata": {},
     "output_type": "execute_result"
    }
   ],
   "source": [
    "import os, torch\n",
    "from transformers import AutoModelForMaskedLM, AutoTokenizer, DataCollatorForLanguageModeling, Trainer, TrainingArguments\n",
    "from datasets import load_dataset, Dataset, DatasetDict\n",
    "\n",
    "# Step 1: Load Pre-trained Model and Tokenizer\n",
    "modelName = \"emanjavacas/MacBERTh\"\n",
    "tokenizer = AutoTokenizer.from_pretrained(modelName)\n",
    "model = AutoModelForMaskedLM.from_pretrained(modelName)\n",
    "\n",
    "# Step 2: Prepare the Dataset\n",
    "def load_and_tokenize_dataset(file_path, tokenizer, block_size=128):\n",
    "    # Read lines from the file\n",
    "    with open(file_path, 'r', encoding='utf-8') as f:\n",
    "        lines = f.readlines()\n",
    "    \n",
    "    # Create a dataset from lines\n",
    "    dataset = Dataset.from_dict({\"text\": lines})\n",
    "    \n",
    "    # Tokenize the dataset\n",
    "    def tokenize_function(examples):\n",
    "        return tokenizer(examples[\"text\"], truncation=True, padding=\"max_length\", max_length=block_size)\n",
    "    \n",
    "    tokenized_dataset = dataset.map(tokenize_function, batched=True, remove_columns=[\"text\"])\n",
    "    return tokenized_dataset\n",
    "\n",
    "bible_text = \"data/bible_full_text.txt\"\n",
    "virginia_docs = \"data/A10010.txt\"\n",
    "\n",
    "# Load and tokenize datasets\n",
    "bible_dataset = load_and_tokenize_dataset(bible_text, tokenizer)\n",
    "virginia_dataset = load_and_tokenize_dataset(virginia_docs, tokenizer)\n",
    "\n",
    "# Concatenate the datasets\n",
    "#combined_dataset = DatasetDict({\"train\": torch.utils.data.ConcatDataset([bible_dataset, virginia_dataset])})\n",
    "combined_dataset = bible_dataset\n",
    "combined_dataset = DatasetDict({\"train\": combined_dataset})\n",
    "\n",
    "# Step 3: Data Collator\n",
    "data_collator = DataCollatorForLanguageModeling(\n",
    "    tokenizer=tokenizer,\n",
    "    mlm=True,\n",
    "    mlm_probability=0.15\n",
    ")\n",
    "\n",
    "# Step 4: Training Arguments\n",
    "training_args = TrainingArguments(\n",
    "    output_dir='./results',\n",
    "    overwrite_output_dir=True,\n",
    "    num_train_epochs=3,\n",
    "    per_device_train_batch_size=4,\n",
    "    save_steps=10_000,\n",
    "    save_total_limit=2,\n",
    ")\n",
    "\n",
    "# Step 5: Trainer\n",
    "trainer = Trainer(\n",
    "    model=model,\n",
    "    args=training_args,\n",
    "    data_collator=data_collator,\n",
    "    train_dataset=combined_dataset[\"train\"]\n",
    ")\n",
    "\n",
    "# Step 6: Train\n",
    "trainer.train()\n",
    "\n",
    "# Save the model\n",
    "model.save_pretrained('./fine-tuned-MacBERTh')\n",
    "tokenizer.save_pretrained('./fine-tuned-MacBERTh')\n"
   ]
  },
  {
   "cell_type": "markdown",
   "metadata": {},
   "source": [
    "Test: another approach to training the Geneva Bible through using CSV instead of TXT."
   ]
  },
  {
   "cell_type": "code",
   "execution_count": null,
   "metadata": {},
   "outputs": [
    {
     "name": "stderr",
     "output_type": "stream",
     "text": [
      "2024-06-14 11:35:45.832792: I tensorflow/core/platform/cpu_feature_guard.cc:182] This TensorFlow binary is optimized to use available CPU instructions in performance-critical operations.\n",
      "To enable the following instructions: AVX2 AVX512F AVX512_VNNI FMA, in other operations, rebuild TensorFlow with the appropriate compiler flags.\n"
     ]
    }
   ],
   "source": [
    "import torch, os\n",
    "from transformers import AutoTokenizer, AutoModel\n",
    "from torch.nn.functional import cosine_similarity\n",
    "import pandas as pd\n",
    "from transformers import AutoModelForMaskedLM, DataCollatorForLanguageModeling, Trainer, TrainingArguments\n",
    "from datasets import load_dataset, Dataset, DatasetDict"
   ]
  },
  {
   "cell_type": "code",
   "execution_count": null,
   "metadata": {},
   "outputs": [],
   "source": [
    "# Process Geneva Bible CSV\n",
    "csvFilePath = \"PtMac_Bible/data/genevaBible.csv\"\n",
    "dataFrame = pd.read_csv(csvFilePath)\n",
    "# dataFrame.head(10)\n",
    "verses = dataFrame[\"Text\"].tolist()\n",
    "print(verses[:10])"
   ]
  },
  {
   "cell_type": "code",
   "execution_count": null,
   "metadata": {},
   "outputs": [],
   "source": [
    "tokenizer = AutoTokenizer.from_pretrained(\"emanjavacas/MacBERTh\")\n",
    "model = AutoModel.from_pretrained(\"emanjavacas/MacBERTh\")\n",
    "\n",
    "sentences = [\"Example sentence for dimension checking.\"]\n",
    "\n",
    "inputs = tokenizer(sentences, return_tensors=\"pt\", padding=\"max_length\", truncation=True, max_length=512)\n",
    "\n",
    "with torch.no_grad():\n",
    "    outputs = model(**inputs)\n",
    "\n",
    "sentence_embeddings = outputs.last_hidden_state[:, 0, :]\n",
    "\n",
    "print(f\"Shape of the sentence embeddings: {sentence_embeddings.shape}\")"
   ]
  }
 ],
 "metadata": {
  "kernelspec": {
   "display_name": "base",
   "language": "python",
   "name": "python3"
  },
  "language_info": {
   "codemirror_mode": {
    "name": "ipython",
    "version": 3
   },
   "file_extension": ".py",
   "mimetype": "text/x-python",
   "name": "python",
   "nbconvert_exporter": "python",
   "pygments_lexer": "ipython3",
   "version": "3.11.5"
  }
 },
 "nbformat": 4,
 "nbformat_minor": 2
}
