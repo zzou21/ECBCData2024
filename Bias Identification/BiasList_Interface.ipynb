{
 "cells": [
  {
   "cell_type": "markdown",
   "metadata": {},
   "source": [
    "<span style=\"font-family: Arial; font-size: 14pt;\"><b>Word Bias List Generation and Compilation</b></span><br><br>\n",
    "<span style=\"font-family: Arial; font-size: 12pt;\">Author: Lucas Ma</span>"
   ]
  },
  {
   "cell_type": "markdown",
   "metadata": {},
   "source": [
    "This following code is an interface that mains the document data/categorized_words.json. Run the following code the follow the instruction to amend the word list. Alternatively, you could also follow the directory above to amend the JSON by hand."
   ]
  },
  {
   "cell_type": "code",
   "execution_count": 13,
   "metadata": {},
   "outputs": [
    {
     "name": "stdout",
     "output_type": "stream",
     "text": [
      "Enter words and categorize them. Type 'exit' to stop.\n"
     ]
    },
    {
     "name": "stdout",
     "output_type": "stream",
     "text": [
      "Choose a category for the word:\n",
      "1. Faith\n",
      "2. Money\n",
      "3. Attraction\n",
      "4. Repulsion\n",
      "Categorized words have been saved to '/Users/lucasma/Documents/The States/ECBC/Code/ECBCData2024/Bias Identification/../data/categorized_words.json'.\n",
      "Choose a category for the word:\n",
      "1. Faith\n",
      "2. Money\n",
      "3. Attraction\n",
      "4. Repulsion\n",
      "Categorized words have been saved to '/Users/lucasma/Documents/The States/ECBC/Code/ECBCData2024/Bias Identification/../data/categorized_words.json'.\n",
      "Choose a category for the word:\n",
      "1. Faith\n",
      "2. Money\n",
      "3. Attraction\n",
      "4. Repulsion\n",
      "Categorized words have been saved to '/Users/lucasma/Documents/The States/ECBC/Code/ECBCData2024/Bias Identification/../data/categorized_words.json'.\n",
      "Choose a category for the word:\n",
      "1. Faith\n",
      "2. Money\n",
      "3. Attraction\n",
      "4. Repulsion\n",
      "Categorized words have been saved to '/Users/lucasma/Documents/The States/ECBC/Code/ECBCData2024/Bias Identification/../data/categorized_words.json'.\n"
     ]
    }
   ],
   "source": [
    "import json\n",
    "import os\n",
    "\n",
    "def load_categories(file_path):\n",
    "    if os.path.exists(file_path):\n",
    "        if os.path.getsize(file_path) > 0:  # Check if the file is not empty\n",
    "            with open(file_path, 'r') as json_file:\n",
    "                try:\n",
    "                    return json.load(json_file)\n",
    "                except json.JSONDecodeError:\n",
    "                    print(\"Error: JSON file is malformed. Starting with empty categories.\")\n",
    "                    return {\n",
    "                        \"Faith\": [],\n",
    "                        \"Money\": [],\n",
    "                        \"Attraction\": [],\n",
    "                        \"Repulsion\": []\n",
    "                    }\n",
    "        else:\n",
    "            print(\"File is empty. Starting with empty categories.\")\n",
    "            return {\n",
    "                \"Faith\": [],\n",
    "                \"Money\": [],\n",
    "                \"Attraction\": [],\n",
    "                \"Repulsion\": []\n",
    "            }\n",
    "    else:\n",
    "        return {\n",
    "            \"Faith\": [],\n",
    "            \"Money\": [],\n",
    "            \"Attraction\": [],\n",
    "            \"Repulsion\": []\n",
    "        }\n",
    "\n",
    "def save_categories(categories, file_path):\n",
    "    with open(file_path, 'w') as json_file:\n",
    "        json.dump(categories, json_file, indent=4)\n",
    "    print(\"Categorized words have been saved to '{}'.\".format(file_path))\n",
    "\n",
    "def add_word_to_category(categories, file_path):\n",
    "    word = input(\"Enter a word (or 'exit' to stop): \")\n",
    "    if word.lower() == 'exit':\n",
    "        return False\n",
    "    \n",
    "    print(\"Choose a category for the word:\")\n",
    "    print(\"1. Faith\")\n",
    "    print(\"2. Money\")\n",
    "    print(\"3. Attraction\")\n",
    "    print(\"4. Repulsion\")\n",
    "    \n",
    "    category_choice = input(\"Enter the number of the category: \")\n",
    "    \n",
    "    if category_choice == '1':\n",
    "        categories[\"Faith\"].append(word)\n",
    "    elif category_choice == '2':\n",
    "        categories[\"Money\"].append(word)\n",
    "    elif category_choice == '3':\n",
    "        categories[\"Attraction\"].append(word)\n",
    "    elif category_choice == '4':\n",
    "        categories[\"Repulsion\"].append(word)\n",
    "    else:\n",
    "        print(\"Invalid choice. Please try again.\")\n",
    "        return True  # Continue the loop without saving\n",
    "    \n",
    "    save_categories(categories, file_path)\n",
    "    return True\n",
    "\n",
    "def categorize_words(file_path):\n",
    "    categories = load_categories(file_path)\n",
    "    \n",
    "    print(\"Enter words and categorize them. Type 'exit' to stop.\")\n",
    "\n",
    "    while True:\n",
    "        if not add_word_to_category(categories, file_path):\n",
    "            break\n",
    "\n",
    "if __name__ == \"__main__\":\n",
    "    base_dir = os.path.dirname(os.path.abspath(__file__))\n",
    "    data_dir = os.path.join(base_dir, '..', 'data')\n",
    "    if not os.path.exists(data_dir):\n",
    "        os.makedirs(data_dir)\n",
    "    file_path = os.path.join(data_dir, 'categorized_words.json')\n",
    "    categorize_words(file_path)\n"
   ]
  }
 ],
 "metadata": {
  "kernelspec": {
   "display_name": "base",
   "language": "python",
   "name": "python3"
  },
  "language_info": {
   "codemirror_mode": {
    "name": "ipython",
    "version": 3
   },
   "file_extension": ".py",
   "mimetype": "text/x-python",
   "name": "python",
   "nbconvert_exporter": "python",
   "pygments_lexer": "ipython3",
   "version": "3.10.14"
  }
 },
 "nbformat": 4,
 "nbformat_minor": 2
}
