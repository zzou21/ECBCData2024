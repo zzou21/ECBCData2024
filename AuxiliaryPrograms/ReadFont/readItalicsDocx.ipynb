{
 "cells": [
  {
   "cell_type": "markdown",
   "metadata": {},
   "source": [
    "Identifying italicized fonts in a docx file. This program was written for testing purposes. Refer to \"XMLProcessing\" folder for the actual practicing word font search.\n",
    "\n",
    "Author: Jerry Zou"
   ]
  },
  {
   "cell_type": "code",
   "execution_count": null,
   "metadata": {},
   "outputs": [],
   "source": [
    "from docx import Document\n",
    "\n",
    "def extract_text_styles(docx_file):\n",
    "    document = Document(docx_file)\n",
    "    print(f\"document type: {type(document)}\")\n",
    "    words_with_styles = []\n",
    "\n",
    "    for paragraph in document.paragraphs:\n",
    "        for run in paragraph.runs:\n",
    "            text = run.text\n",
    "            if run.italic:\n",
    "                style = \"italic\"\n",
    "            elif run.bold:\n",
    "                style = \"bold\"\n",
    "            else:\n",
    "                style = \"normal\"\n",
    "            words = text.split()\n",
    "            for word in words:\n",
    "                words_with_styles.append((word, style))\n",
    "    \n",
    "    return words_with_styles\n",
    "\n",
    "# Usage example\n",
    "docx_file = '/Users/Jerry/Desktop/test.docx'\n",
    "words_with_styles = extract_text_styles(docx_file)\n",
    "\n",
    "# Print words with their styles\n",
    "for word, style in words_with_styles:\n",
    "    print(f\"{word}: {style}\")"
   ]
  },
  {
   "cell_type": "code",
   "execution_count": 1,
   "metadata": {},
   "outputs": [],
   "source": [
    "import requests\n",
    "from bs4 import BeautifulSoup"
   ]
  },
  {
   "cell_type": "code",
   "execution_count": 2,
   "metadata": {},
   "outputs": [
    {
     "name": "stdout",
     "output_type": "stream",
     "text": [
      "Italic words: []\n",
      "Normal words: ['var', 'require', '=', '{\"shim\":{\"t5/core/typeahead\":[\"jquery\"],\"howler\":{\"exports\":\"howler\"},\"viewer\":[\"jquery\"],\"slick\":[\"jquery\"],\"chartjs\":[\"moment\"],\"pdfObject\":{\"exports\":\"PDFObject\"}},\"baseUrl\":\"/modules.gz\"};', 'require([\"t5/core/pageinit\"],', 'function(pi)', '{', 'pi([\"/assets/stack/z5e5858e9/en/pqc.js\"],', '[[\"pages/IntermediateRedirectForEzProxy:intermediateRedirectForEzProxy\",{\"part1\":\"https://www.proq\",\"part2\":\"uest.com/eebo/docview/2240908786/99846899/796289D17142F5PQ/2/embedded/S2HK14HRXGA5Y1PP?accountid=10598&sourcetype=Books&parentSessionId=BHOaqqd7%2FVHzm0sPYSFzDXRmQdb44pG%2BFlwEo4M6UxU%3D\",\"deleteCookiesEventUrl\":\"https://www.proquest.com/intermediateredirectforezproxy:deletecookiesevent\",\"noTokenURL\":\"https://www.proquest.com/eebo/docview/2240908786/99846899/796289D17142F5PQ/2?accountid=10598&sourcetype=Books&parentSessionId=BHOaqqd7%2FVHzm0sPYSFzDXRmQdb44pG%2BFlwEo4M6UxU%3D\"}],[\"components/LogoCheck:initialize\",{\"logoURL\":\"aHR0cHM6Ly93d3cucHJvcXVlc3QuY29tL2xvZ29zZWxlY3Rvci8=\",\"processing\":\"L3Byb2Nlc3NpbmdyZXF1ZXN0\",\"university\":\"University\",\"logo\":\"MjQ4OUUxRDIyRTBDQzU1OTMwRTlDNUFFNjEzREYxRDIuaS0wMDdmY2QyMDdiMTVjZTJkOQ==\"}]]);', '});']\n"
     ]
    }
   ],
   "source": []
  }
 ],
 "metadata": {
  "kernelspec": {
   "display_name": "Python 3",
   "language": "python",
   "name": "python3"
  },
  "language_info": {
   "codemirror_mode": {
    "name": "ipython",
    "version": 3
   },
   "file_extension": ".py",
   "mimetype": "text/x-python",
   "name": "python",
   "nbconvert_exporter": "python",
   "pygments_lexer": "ipython3",
   "version": "3.11.5"
  }
 },
 "nbformat": 4,
 "nbformat_minor": 2
}
