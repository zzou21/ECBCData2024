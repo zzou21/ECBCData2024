{
 "cells": [
  {
   "cell_type": "markdown",
   "metadata": {},
   "source": [
    "<span style=\"font-family: Arial; font-size: 14pt;\"><b>Intermediate Training and Fine-tuning of BERT on Geneva Bible</b></span><br><br>\n",
    "<span style=\"font-family: Arial; font-size: 10pt;\">Author: Lucas Ma</span>"
   ]
  },
  {
   "cell_type": "code",
   "execution_count": 5,
   "metadata": {},
   "outputs": [
    {
     "name": "stderr",
     "output_type": "stream",
     "text": [
      "/Users/lucasma/miniforge3/lib/python3.10/site-packages/huggingface_hub/file_download.py:1132: FutureWarning: `resume_download` is deprecated and will be removed in version 1.0.0. Downloads always resume when possible. If you want to force a new download, use `force_download=True`.\n",
      "  warnings.warn(\n"
     ]
    },
    {
     "data": {
      "application/vnd.jupyter.widget-view+json": {
       "model_id": "efaaffcf17fc463bb6c92794f063cb68",
       "version_major": 2,
       "version_minor": 0
      },
      "text/plain": [
       "Map:   0%|          | 0/1 [00:00<?, ? examples/s]"
      ]
     },
     "metadata": {},
     "output_type": "display_data"
    },
    {
     "data": {
      "application/vnd.jupyter.widget-view+json": {
       "model_id": "2a490a98203c4c8db6bfdca77718bc54",
       "version_major": 2,
       "version_minor": 0
      },
      "text/plain": [
       "Map:   0%|          | 0/1 [00:00<?, ? examples/s]"
      ]
     },
     "metadata": {},
     "output_type": "display_data"
    },
    {
     "data": {
      "application/vnd.jupyter.widget-view+json": {
       "model_id": "ef5734a6a16a4ca5b9cbafff9adb7f26",
       "version_major": 2,
       "version_minor": 0
      },
      "text/plain": [
       "  0%|          | 0/3 [00:00<?, ?it/s]"
      ]
     },
     "metadata": {},
     "output_type": "display_data"
    },
    {
     "name": "stdout",
     "output_type": "stream",
     "text": [
      "{'train_runtime': 2.5776, 'train_samples_per_second': 1.164, 'train_steps_per_second': 1.164, 'train_loss': 0.3129093249638875, 'epoch': 3.0}\n"
     ]
    },
    {
     "data": {
      "text/plain": [
       "('./fine-tuned-MacBERTh/tokenizer_config.json',\n",
       " './fine-tuned-MacBERTh/special_tokens_map.json',\n",
       " './fine-tuned-MacBERTh/vocab.txt',\n",
       " './fine-tuned-MacBERTh/added_tokens.json',\n",
       " './fine-tuned-MacBERTh/tokenizer.json')"
      ]
     },
     "execution_count": 5,
     "metadata": {},
     "output_type": "execute_result"
    }
   ],
   "source": [
    "import os\n",
    "import torch\n",
    "from transformers import AutoModelForMaskedLM, AutoTokenizer, DataCollatorForLanguageModeling, Trainer, TrainingArguments\n",
    "from datasets import load_dataset, Dataset, DatasetDict\n",
    "\n",
    "# Step 1: Load Pre-trained Model and Tokenizer\n",
    "modelName = \"emanjavacas/MacBERTh\"\n",
    "tokenizer = AutoTokenizer.from_pretrained(modelName)\n",
    "model = AutoModelForMaskedLM.from_pretrained(modelName)\n",
    "\n",
    "# Step 2: Prepare the Dataset\n",
    "def load_and_tokenize_dataset(file_path, tokenizer, block_size=128):\n",
    "    # Read lines from the file\n",
    "    with open(file_path, 'r', encoding='utf-8') as f:\n",
    "        lines = f.readlines()\n",
    "    \n",
    "    # Create a dataset from lines\n",
    "    dataset = Dataset.from_dict({\"text\": lines})\n",
    "    \n",
    "    # Tokenize the dataset\n",
    "    def tokenize_function(examples):\n",
    "        return tokenizer(examples[\"text\"], truncation=True, padding=\"max_length\", max_length=block_size)\n",
    "    \n",
    "    tokenized_dataset = dataset.map(tokenize_function, batched=True, remove_columns=[\"text\"])\n",
    "    return tokenized_dataset\n",
    "\n",
    "bible_text = \"data/bible_full_text.txt\"\n",
    "virginia_docs = \"data/A10010.txt\"\n",
    "\n",
    "# Load and tokenize datasets\n",
    "bible_dataset = load_and_tokenize_dataset(bible_text, tokenizer)\n",
    "virginia_dataset = load_and_tokenize_dataset(virginia_docs, tokenizer)\n",
    "\n",
    "# Concatenate the datasets\n",
    "#combined_dataset = DatasetDict({\"train\": torch.utils.data.ConcatDataset([bible_dataset, virginia_dataset])})\n",
    "combined_dataset = bible_dataset\n",
    "combined_dataset = DatasetDict({\"train\": combined_dataset})\n",
    "\n",
    "# Step 3: Data Collator\n",
    "data_collator = DataCollatorForLanguageModeling(\n",
    "    tokenizer=tokenizer,\n",
    "    mlm=True,\n",
    "    mlm_probability=0.15\n",
    ")\n",
    "\n",
    "# Step 4: Training Arguments\n",
    "training_args = TrainingArguments(\n",
    "    output_dir='./results',\n",
    "    overwrite_output_dir=True,\n",
    "    num_train_epochs=3,\n",
    "    per_device_train_batch_size=4,\n",
    "    save_steps=10_000,\n",
    "    save_total_limit=2,\n",
    ")\n",
    "\n",
    "# Step 5: Trainer\n",
    "trainer = Trainer(\n",
    "    model=model,\n",
    "    args=training_args,\n",
    "    data_collator=data_collator,\n",
    "    train_dataset=combined_dataset[\"train\"]\n",
    ")\n",
    "\n",
    "# Step 6: Train\n",
    "trainer.train()\n",
    "\n",
    "# Save the model\n",
    "model.save_pretrained('./fine-tuned-MacBERTh')\n",
    "tokenizer.save_pretrained('./fine-tuned-MacBERTh')\n"
   ]
  }
 ],
 "metadata": {
  "kernelspec": {
   "display_name": "base",
   "language": "python",
   "name": "python3"
  },
  "language_info": {
   "codemirror_mode": {
    "name": "ipython",
    "version": 3
   },
   "file_extension": ".py",
   "mimetype": "text/x-python",
   "name": "python",
   "nbconvert_exporter": "python",
   "pygments_lexer": "ipython3",
   "version": "3.10.14"
  }
 },
 "nbformat": 4,
 "nbformat_minor": 2
}
